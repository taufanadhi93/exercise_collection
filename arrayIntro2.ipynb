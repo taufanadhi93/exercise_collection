{
 "metadata": {
  "language_info": {
   "codemirror_mode": {
    "name": "ipython",
    "version": 3
   },
   "file_extension": ".py",
   "mimetype": "text/x-python",
   "name": "python",
   "nbconvert_exporter": "python",
   "pygments_lexer": "ipython3",
   "version": "3.8.7"
  },
  "orig_nbformat": 2,
  "kernelspec": {
   "name": "python3",
   "display_name": "Python 3.8.7 64-bit",
   "metadata": {
    "interpreter": {
     "hash": "aee8b7b246df8f9039afb4144a1f6fd8d2ca17a180786b69acc140d282b71a49"
    }
   }
  }
 },
 "nbformat": 4,
 "nbformat_minor": 2,
 "cells": [
  {
   "cell_type": "code",
   "execution_count": 40,
   "metadata": {},
   "outputs": [
    {
     "output_type": "execute_result",
     "data": {
      "text/plain": [
       "array([ 30,  60,  90, 120, 150, 180, 210, 240, 270])"
      ]
     },
     "metadata": {},
     "execution_count": 40
    }
   ],
   "source": [
    "import numpy as np\n",
    "import pandas as pd\n",
    "array=np.arange(30,300,30)\n",
    "array"
   ]
  },
  {
   "cell_type": "code",
   "execution_count": 6,
   "metadata": {},
   "outputs": [
    {
     "output_type": "execute_result",
     "data": {
      "text/plain": [
       "array([ 31,  61,  91, 121, 151, 181, 211, 241, 271])"
      ]
     },
     "metadata": {},
     "execution_count": 6
    }
   ],
   "source": [
    "array+1"
   ]
  },
  {
   "cell_type": "code",
   "execution_count": 7,
   "metadata": {},
   "outputs": [
    {
     "output_type": "execute_result",
     "data": {
      "text/plain": [
       "array([0.03333333, 0.01666667, 0.01111111, 0.00833333, 0.00666667,\n",
       "       0.00555556, 0.0047619 , 0.00416667, 0.0037037 ])"
      ]
     },
     "metadata": {},
     "execution_count": 7
    }
   ],
   "source": [
    "1/array"
   ]
  },
  {
   "cell_type": "code",
   "execution_count": 10,
   "metadata": {},
   "outputs": [
    {
     "output_type": "execute_result",
     "data": {
      "text/plain": [
       "array([  900,  3600,  8100, 14400, 22500, 32400, 44100, 57600, 72900])"
      ]
     },
     "metadata": {},
     "execution_count": 10
    }
   ],
   "source": [
    "array*array"
   ]
  },
  {
   "cell_type": "code",
   "execution_count": 11,
   "metadata": {},
   "outputs": [
    {
     "output_type": "execute_result",
     "data": {
      "text/plain": [
       "array([[ 30,  60,  90],\n",
       "       [120, 150, 180],\n",
       "       [210, 240, 270]])"
      ]
     },
     "metadata": {},
     "execution_count": 11
    }
   ],
   "source": [
    "array2d=array.reshape(3,3)\n",
    "array2d"
   ]
  },
  {
   "cell_type": "code",
   "execution_count": 12,
   "metadata": {},
   "outputs": [
    {
     "output_type": "execute_result",
     "data": {
      "text/plain": [
       "array([[  900,  3600,  8100],\n",
       "       [14400, 22500, 32400],\n",
       "       [44100, 57600, 72900]])"
      ]
     },
     "metadata": {},
     "execution_count": 12
    }
   ],
   "source": [
    "array2d**2"
   ]
  },
  {
   "cell_type": "code",
   "execution_count": 13,
   "metadata": {},
   "outputs": [
    {
     "output_type": "execute_result",
     "data": {
      "text/plain": [
       "array([[ 30, 120, 270],\n",
       "       [120, 300, 540],\n",
       "       [210, 480, 810]])"
      ]
     },
     "metadata": {},
     "execution_count": 13
    }
   ],
   "source": [
    "array2=[1,2,3]\n",
    "array2d*array2"
   ]
  },
  {
   "cell_type": "code",
   "execution_count": 14,
   "metadata": {},
   "outputs": [
    {
     "output_type": "execute_result",
     "data": {
      "text/plain": [
       "array([[1., 1., 1.],\n",
       "       [1., 1., 1.],\n",
       "       [1., 1., 1.]])"
      ]
     },
     "metadata": {},
     "execution_count": 14
    }
   ],
   "source": [
    "array2d/array2d"
   ]
  },
  {
   "cell_type": "code",
   "execution_count": 15,
   "metadata": {},
   "outputs": [
    {
     "output_type": "execute_result",
     "data": {
      "text/plain": [
       "array([[ 5.47722558,  7.74596669,  9.48683298],\n",
       "       [10.95445115, 12.24744871, 13.41640786],\n",
       "       [14.49137675, 15.49193338, 16.43167673]])"
      ]
     },
     "metadata": {},
     "execution_count": 15
    }
   ],
   "source": [
    "np.sqrt(array2d)"
   ]
  },
  {
   "cell_type": "code",
   "execution_count": 16,
   "metadata": {},
   "outputs": [
    {
     "output_type": "execute_result",
     "data": {
      "text/plain": [
       "array([[1.06864746e+013, 1.14200739e+026, 1.22040329e+039],\n",
       "       [1.30418088e+052, 1.39370958e+065, 1.48938420e+078],\n",
       "       [1.59162664e+091, 1.70088776e+104, 1.81764939e+117]])"
      ]
     },
     "metadata": {},
     "execution_count": 16
    }
   ],
   "source": [
    "np.exp(array2d)"
   ]
  },
  {
   "cell_type": "code",
   "execution_count": 17,
   "metadata": {},
   "outputs": [
    {
     "output_type": "execute_result",
     "data": {
      "text/plain": [
       "array([[-0.98803162, -0.30481062,  0.89399666],\n",
       "       [ 0.58061118, -0.71487643, -0.80115264],\n",
       "       [ 0.46771852,  0.94544515, -0.17604595]])"
      ]
     },
     "metadata": {},
     "execution_count": 17
    }
   ],
   "source": [
    "np.sin(array2d)"
   ]
  },
  {
   "cell_type": "code",
   "execution_count": 18,
   "metadata": {},
   "outputs": [
    {
     "output_type": "execute_result",
     "data": {
      "text/plain": [
       "array([[ 0.15425145, -0.95241298, -0.44807362],\n",
       "       [ 0.81418097,  0.69925081, -0.59846007],\n",
       "       [-0.88387747,  0.32578131,  0.98438195]])"
      ]
     },
     "metadata": {},
     "execution_count": 18
    }
   ],
   "source": [
    "np.cos(array2d)"
   ]
  },
  {
   "cell_type": "code",
   "execution_count": 19,
   "metadata": {},
   "outputs": [
    {
     "output_type": "execute_result",
     "data": {
      "text/plain": [
       "array([[-6.4053312 ,  0.32004039, -1.99520041],\n",
       "       [ 0.71312301, -1.02234624,  1.33869021],\n",
       "       [-0.52916669,  2.90208535, -0.17883906]])"
      ]
     },
     "metadata": {},
     "execution_count": 19
    }
   ],
   "source": [
    "np.tan(array2d)"
   ]
  },
  {
   "cell_type": "code",
   "execution_count": 22,
   "metadata": {},
   "outputs": [
    {
     "output_type": "execute_result",
     "data": {
      "text/plain": [
       "array([[3.40119738, 4.09434456, 4.49980967],\n",
       "       [4.78749174, 5.01063529, 5.19295685],\n",
       "       [5.34710753, 5.48063892, 5.59842196]])"
      ]
     },
     "metadata": {},
     "execution_count": 22
    }
   ],
   "source": [
    "np.log(array2d)"
   ]
  },
  {
   "cell_type": "code",
   "execution_count": 23,
   "metadata": {},
   "outputs": [
    {
     "output_type": "execute_result",
     "data": {
      "text/plain": [
       "array([ 30,  60,  90, 120, 150, 180, 210,  31, 240, 270])"
      ]
     },
     "metadata": {},
     "execution_count": 23
    }
   ],
   "source": [
    "np.insert(array,7,31)"
   ]
  },
  {
   "cell_type": "code",
   "execution_count": 24,
   "metadata": {},
   "outputs": [
    {
     "output_type": "execute_result",
     "data": {
      "text/plain": [
       "array([ 30,  60,  90, 120, 150, 180, 210, 270])"
      ]
     },
     "metadata": {},
     "execution_count": 24
    }
   ],
   "source": [
    "np.delete(array,7)"
   ]
  },
  {
   "cell_type": "code",
   "execution_count": 25,
   "metadata": {},
   "outputs": [
    {
     "output_type": "execute_result",
     "data": {
      "text/plain": [
       "array([ 30,  60,  90, 120, 150, 180, 210, 240, 270, 300])"
      ]
     },
     "metadata": {},
     "execution_count": 25
    }
   ],
   "source": [
    "np.append(array,300)"
   ]
  },
  {
   "cell_type": "code",
   "execution_count": 34,
   "metadata": {},
   "outputs": [
    {
     "output_type": "stream",
     "name": "stdout",
     "text": [
      "[[1 2]\n [3 4]]\n[[9 8]]\n[[1 2]\n [3 4]\n [9 8]]\n[[1 2]\n [3 4]\n [9 8]]\n"
     ]
    }
   ],
   "source": [
    "#axis = 0 untuk concatenate ke bawah\n",
    "#pada posisi default axis = 0\n",
    "a = np.array([[1,2],[3,4]])\n",
    "print(a)\n",
    "b = np.array([[9,8]])\n",
    "print(b)\n",
    "c=np.concatenate((a,b),axis=0)\n",
    "print(c)\n",
    "d=np.concatenate((a,b))\n",
    "print(d)"
   ]
  },
  {
   "cell_type": "code",
   "execution_count": 32,
   "metadata": {},
   "outputs": [
    {
     "output_type": "stream",
     "name": "stdout",
     "text": [
      "[[1 2]\n [3 4]]\n[[9 8]]\n"
     ]
    },
    {
     "output_type": "execute_result",
     "data": {
      "text/plain": [
       "array([[1, 2, 9],\n",
       "       [3, 4, 8]])"
      ]
     },
     "metadata": {},
     "execution_count": 32
    }
   ],
   "source": [
    "#axis = 1 untuk concatenate ke samping, maka array b perlu di transpose lebih dahulu\n",
    "print(a)\n",
    "print(b)\n",
    "np.concatenate((a,b.T),axis=1)"
   ]
  },
  {
   "cell_type": "code",
   "execution_count": 35,
   "metadata": {},
   "outputs": [
    {
     "output_type": "stream",
     "name": "stdout",
     "text": [
      "[[1 2]\n [3 4]]\n[[9 8]]\n"
     ]
    },
    {
     "output_type": "execute_result",
     "data": {
      "text/plain": [
       "array([1, 2, 3, 4, 9, 8])"
      ]
     },
     "metadata": {},
     "execution_count": 35
    }
   ],
   "source": [
    "#axis = none untuk concatenate menjadi 1d array\n",
    "print(a)\n",
    "print(b)\n",
    "np.concatenate((a,b),axis = None)"
   ]
  },
  {
   "cell_type": "code",
   "execution_count": 36,
   "metadata": {},
   "outputs": [
    {
     "output_type": "execute_result",
     "data": {
      "text/plain": [
       "array([[  1,   1,   1],\n",
       "       [  1, 150, 180],\n",
       "       [210, 240, 270]])"
      ]
     },
     "metadata": {},
     "execution_count": 36
    }
   ],
   "source": [
    "np.where(array2d<150,1,array2d)"
   ]
  },
  {
   "cell_type": "code",
   "execution_count": 37,
   "metadata": {},
   "outputs": [
    {
     "output_type": "execute_result",
     "data": {
      "text/plain": [
       "array([[1, 1, 1],\n",
       "       [1, 0, 0],\n",
       "       [0, 0, 0]])"
      ]
     },
     "metadata": {},
     "execution_count": 37
    }
   ],
   "source": [
    "np.where(array2d<150,1,0)"
   ]
  },
  {
   "cell_type": "code",
   "execution_count": 39,
   "metadata": {},
   "outputs": [
    {
     "output_type": "execute_result",
     "data": {
      "text/plain": [
       "array([['Kecil', 'Kecil', 'Kecil'],\n",
       "       ['Kecil', 'Kecil', 'Kecil'],\n",
       "       ['Besar', 'Besar', 'Besar']], dtype='<U5')"
      ]
     },
     "metadata": {},
     "execution_count": 39
    }
   ],
   "source": [
    "np.where(array2d<=180,'Kecil','Besar')"
   ]
  },
  {
   "cell_type": "code",
   "execution_count": 46,
   "metadata": {},
   "outputs": [
    {
     "output_type": "stream",
     "name": "stdout",
     "text": [
      "Creating series from list\n0    11\n1    22\n2    33\n3    44\n4    55\ndtype: int64\n\nCreating series from list with labels\ny0    11\ny1    22\ny2    33\ny3    44\ny4    55\ndtype: int64\n\nCreating series from array with labels\ny0    11\ny1    22\ny2    33\ny3    44\ny4    55\ndtype: int64\n\nCreating series from dictionary with labels\ny0    11\ny1    22\ny2    33\ny3    44\ny4    55\ndtype: int64\n"
     ]
    }
   ],
   "source": [
    "labels = ['y0','y1','y2','y3','y4']\n",
    "myList = [11,22,33,44,55]\n",
    "array3 = np.array(myList)\n",
    "dictArray = {'y0' : 11,'y1' : 22,'y2' : 33,'y3' : 44,'y4' : 55}\n",
    "\n",
    "#pd.Series(data,index)\n",
    "print('Creating series from list')\n",
    "print(pd.Series(myList))\n",
    "print()\n",
    "print('Creating series from list with labels')\n",
    "print(pd.Series(myList,labels))\n",
    "print()\n",
    "print('Creating series from array with labels')\n",
    "print(pd.Series(array3,labels))\n",
    "print()\n",
    "print('Creating series from dictionary with labels')\n",
    "print(pd.Series(dictArray,labels))"
   ]
  },
  {
   "cell_type": "code",
   "execution_count": 51,
   "metadata": {},
   "outputs": [
    {
     "output_type": "execute_result",
     "data": {
      "text/plain": [
       "    a   b   c   d   e   f   g\n",
       "h   1   4   7  10  13  16  19\n",
       "i  21  24  27  30  33  36  39\n",
       "j  41  44  47  50  53  56  59"
      ],
      "text/html": "<div>\n<style scoped>\n    .dataframe tbody tr th:only-of-type {\n        vertical-align: middle;\n    }\n\n    .dataframe tbody tr th {\n        vertical-align: top;\n    }\n\n    .dataframe thead th {\n        text-align: right;\n    }\n</style>\n<table border=\"1\" class=\"dataframe\">\n  <thead>\n    <tr style=\"text-align: right;\">\n      <th></th>\n      <th>a</th>\n      <th>b</th>\n      <th>c</th>\n      <th>d</th>\n      <th>e</th>\n      <th>f</th>\n      <th>g</th>\n    </tr>\n  </thead>\n  <tbody>\n    <tr>\n      <th>h</th>\n      <td>1</td>\n      <td>4</td>\n      <td>7</td>\n      <td>10</td>\n      <td>13</td>\n      <td>16</td>\n      <td>19</td>\n    </tr>\n    <tr>\n      <th>i</th>\n      <td>21</td>\n      <td>24</td>\n      <td>27</td>\n      <td>30</td>\n      <td>33</td>\n      <td>36</td>\n      <td>39</td>\n    </tr>\n    <tr>\n      <th>j</th>\n      <td>41</td>\n      <td>44</td>\n      <td>47</td>\n      <td>50</td>\n      <td>53</td>\n      <td>56</td>\n      <td>59</td>\n    </tr>\n  </tbody>\n</table>\n</div>"
     },
     "metadata": {},
     "execution_count": 51
    }
   ],
   "source": [
    "a1 = [i for i in range(1,20,3)]\n",
    "b1 = [i for i in range(21,40,3)]\n",
    "c1 = [i for i in range(41,60,3)]\n",
    "lbl = 'a b c d e f g'\n",
    "idx = 'h i j'\n",
    "pd.DataFrame([a1,b1,c1],idx.split(),lbl.split())"
   ]
  },
  {
   "cell_type": "code",
   "execution_count": 54,
   "metadata": {},
   "outputs": [
    {
     "output_type": "stream",
     "name": "stdout",
     "text": [
      "    h   i   j\na   1  21  41\nb   4  24  44\nc   7  27  47\nd  10  30  50\ne  13  33  53\nf  16  36  56\ng  19  39  59\n\n\n    h   i   j\na   1  21  41\nb   4  24  44\nc   7  27  47\nd  10  30  50\ne  13  33  53\nf  16  36  56\ng  19  39  59\n"
     ]
    }
   ],
   "source": [
    "print(pd.DataFrame(list(zip(a1,b1,c1)),lbl.split(),idx.split()))\n",
    "print()\n",
    "print()\n",
    "#another way to reversing dimension\n",
    "\n",
    "print(pd.DataFrame([a1,b1,c1],idx.split(),lbl.split()).T)"
   ]
  },
  {
   "cell_type": "code",
   "execution_count": 64,
   "metadata": {},
   "outputs": [
    {
     "output_type": "execute_result",
     "data": {
      "text/plain": [
       "          a         s         d         f\n",
       "Q  2.706850  0.628133  0.907969  0.503826\n",
       "W  0.651118 -0.319318 -0.848077  0.605965\n",
       "E -2.018168  0.740122  0.528813 -0.589001\n",
       "R  0.188695 -0.758872 -0.933237  0.955057\n",
       "T  0.190794  1.978757  2.605967  0.683509"
      ],
      "text/html": "<div>\n<style scoped>\n    .dataframe tbody tr th:only-of-type {\n        vertical-align: middle;\n    }\n\n    .dataframe tbody tr th {\n        vertical-align: top;\n    }\n\n    .dataframe thead th {\n        text-align: right;\n    }\n</style>\n<table border=\"1\" class=\"dataframe\">\n  <thead>\n    <tr style=\"text-align: right;\">\n      <th></th>\n      <th>a</th>\n      <th>s</th>\n      <th>d</th>\n      <th>f</th>\n    </tr>\n  </thead>\n  <tbody>\n    <tr>\n      <th>Q</th>\n      <td>2.706850</td>\n      <td>0.628133</td>\n      <td>0.907969</td>\n      <td>0.503826</td>\n    </tr>\n    <tr>\n      <th>W</th>\n      <td>0.651118</td>\n      <td>-0.319318</td>\n      <td>-0.848077</td>\n      <td>0.605965</td>\n    </tr>\n    <tr>\n      <th>E</th>\n      <td>-2.018168</td>\n      <td>0.740122</td>\n      <td>0.528813</td>\n      <td>-0.589001</td>\n    </tr>\n    <tr>\n      <th>R</th>\n      <td>0.188695</td>\n      <td>-0.758872</td>\n      <td>-0.933237</td>\n      <td>0.955057</td>\n    </tr>\n    <tr>\n      <th>T</th>\n      <td>0.190794</td>\n      <td>1.978757</td>\n      <td>2.605967</td>\n      <td>0.683509</td>\n    </tr>\n  </tbody>\n</table>\n</div>"
     },
     "metadata": {},
     "execution_count": 64
    }
   ],
   "source": [
    "from numpy.random import randn\n",
    "np.random.seed(101)\n",
    "df = pd.DataFrame(randn(5,4),'Q W E R T'.split(),'a s d f'.split())\n",
    "df"
   ]
  },
  {
   "cell_type": "code",
   "execution_count": 79,
   "metadata": {},
   "outputs": [
    {
     "output_type": "stream",
     "name": "stdout",
     "text": [
      "    a   b   c\nV  12  56  11\nW  23  67  22\nX  34  78  33\nY  45  89  44\n"
     ]
    }
   ],
   "source": [
    "myd = {'a':[12,23,34,45],\n",
    "       'b':[56,67,78,89],\n",
    "       'c':[11,22,33,44]}\n",
    "df1=pd.DataFrame(myd,'V W X Y'.split())\n",
    "print(df1)"
   ]
  },
  {
   "cell_type": "code",
   "execution_count": 96,
   "metadata": {},
   "outputs": [
    {
     "output_type": "execute_result",
     "data": {
      "text/plain": [
       "      a   b   c\n",
       "V    12  56  11\n",
       "W    23  67  22\n",
       "X    34  78  33\n",
       "Y    45  89  44\n",
       "new   1   2   3"
      ],
      "text/html": "<div>\n<style scoped>\n    .dataframe tbody tr th:only-of-type {\n        vertical-align: middle;\n    }\n\n    .dataframe tbody tr th {\n        vertical-align: top;\n    }\n\n    .dataframe thead th {\n        text-align: right;\n    }\n</style>\n<table border=\"1\" class=\"dataframe\">\n  <thead>\n    <tr style=\"text-align: right;\">\n      <th></th>\n      <th>a</th>\n      <th>b</th>\n      <th>c</th>\n    </tr>\n  </thead>\n  <tbody>\n    <tr>\n      <th>V</th>\n      <td>12</td>\n      <td>56</td>\n      <td>11</td>\n    </tr>\n    <tr>\n      <th>W</th>\n      <td>23</td>\n      <td>67</td>\n      <td>22</td>\n    </tr>\n    <tr>\n      <th>X</th>\n      <td>34</td>\n      <td>78</td>\n      <td>33</td>\n    </tr>\n    <tr>\n      <th>Y</th>\n      <td>45</td>\n      <td>89</td>\n      <td>44</td>\n    </tr>\n    <tr>\n      <th>new</th>\n      <td>1</td>\n      <td>2</td>\n      <td>3</td>\n    </tr>\n  </tbody>\n</table>\n</div>"
     },
     "metadata": {},
     "execution_count": 96
    }
   ],
   "source": [
    "#adding new row with values\n",
    "myd = {'a':[12,23,34,45],\n",
    "       'b':[56,67,78,89],\n",
    "       'c':[11,22,33,44]}\n",
    "df1=pd.DataFrame(myd,'V W X Y'.split())\n",
    "df1.loc['new']=[1,2,3]\n",
    "df1"
   ]
  },
  {
   "cell_type": "code",
   "execution_count": 91,
   "metadata": {},
   "outputs": [
    {
     "output_type": "execute_result",
     "data": {
      "text/plain": [
       "    a   b   c  new\n",
       "V  12  56  11   23\n",
       "W  23  67  22   45\n",
       "X  34  78  33   67\n",
       "Y  45  89  44   89"
      ],
      "text/html": "<div>\n<style scoped>\n    .dataframe tbody tr th:only-of-type {\n        vertical-align: middle;\n    }\n\n    .dataframe tbody tr th {\n        vertical-align: top;\n    }\n\n    .dataframe thead th {\n        text-align: right;\n    }\n</style>\n<table border=\"1\" class=\"dataframe\">\n  <thead>\n    <tr style=\"text-align: right;\">\n      <th></th>\n      <th>a</th>\n      <th>b</th>\n      <th>c</th>\n      <th>new</th>\n    </tr>\n  </thead>\n  <tbody>\n    <tr>\n      <th>V</th>\n      <td>12</td>\n      <td>56</td>\n      <td>11</td>\n      <td>23</td>\n    </tr>\n    <tr>\n      <th>W</th>\n      <td>23</td>\n      <td>67</td>\n      <td>22</td>\n      <td>45</td>\n    </tr>\n    <tr>\n      <th>X</th>\n      <td>34</td>\n      <td>78</td>\n      <td>33</td>\n      <td>67</td>\n    </tr>\n    <tr>\n      <th>Y</th>\n      <td>45</td>\n      <td>89</td>\n      <td>44</td>\n      <td>89</td>\n    </tr>\n  </tbody>\n</table>\n</div>"
     },
     "metadata": {},
     "execution_count": 91
    }
   ],
   "source": [
    "#adding new columns with values\n",
    "myd = {'a':[12,23,34,45],\n",
    "       'b':[56,67,78,89],\n",
    "       'c':[11,22,33,44]}\n",
    "df1=pd.DataFrame(myd,'V W X Y'.split())\n",
    "df1['new']=df1['a']+df1['c']\n",
    "df1"
   ]
  },
  {
   "cell_type": "code",
   "execution_count": 97,
   "metadata": {},
   "outputs": [
    {
     "output_type": "execute_result",
     "data": {
      "text/plain": [
       "    a  new   b   c\n",
       "V  12    4  56  11\n",
       "W  23    8  67  22\n",
       "X  34   12  78  33\n",
       "Y  45   16  89  44"
      ],
      "text/html": "<div>\n<style scoped>\n    .dataframe tbody tr th:only-of-type {\n        vertical-align: middle;\n    }\n\n    .dataframe tbody tr th {\n        vertical-align: top;\n    }\n\n    .dataframe thead th {\n        text-align: right;\n    }\n</style>\n<table border=\"1\" class=\"dataframe\">\n  <thead>\n    <tr style=\"text-align: right;\">\n      <th></th>\n      <th>a</th>\n      <th>new</th>\n      <th>b</th>\n      <th>c</th>\n    </tr>\n  </thead>\n  <tbody>\n    <tr>\n      <th>V</th>\n      <td>12</td>\n      <td>4</td>\n      <td>56</td>\n      <td>11</td>\n    </tr>\n    <tr>\n      <th>W</th>\n      <td>23</td>\n      <td>8</td>\n      <td>67</td>\n      <td>22</td>\n    </tr>\n    <tr>\n      <th>X</th>\n      <td>34</td>\n      <td>12</td>\n      <td>78</td>\n      <td>33</td>\n    </tr>\n    <tr>\n      <th>Y</th>\n      <td>45</td>\n      <td>16</td>\n      <td>89</td>\n      <td>44</td>\n    </tr>\n  </tbody>\n</table>\n</div>"
     },
     "metadata": {},
     "execution_count": 97
    }
   ],
   "source": [
    "#inserting new columns with value at index [i]\n",
    "myd = {'a':[12,23,34,45],\n",
    "       'b':[56,67,78,89],\n",
    "       'c':[11,22,33,44]}\n",
    "df1=pd.DataFrame(myd,'V W X Y'.split())\n",
    "df1.insert(1,'new',[4,8,12,16])\n",
    "df1"
   ]
  },
  {
   "cell_type": "code",
   "execution_count": 99,
   "metadata": {},
   "outputs": [
    {
     "output_type": "execute_result",
     "data": {
      "text/plain": [
       "    a   c\n",
       "V  12  11\n",
       "W  23  22\n",
       "X  34  33\n",
       "Y  45  44"
      ],
      "text/html": "<div>\n<style scoped>\n    .dataframe tbody tr th:only-of-type {\n        vertical-align: middle;\n    }\n\n    .dataframe tbody tr th {\n        vertical-align: top;\n    }\n\n    .dataframe thead th {\n        text-align: right;\n    }\n</style>\n<table border=\"1\" class=\"dataframe\">\n  <thead>\n    <tr style=\"text-align: right;\">\n      <th></th>\n      <th>a</th>\n      <th>c</th>\n    </tr>\n  </thead>\n  <tbody>\n    <tr>\n      <th>V</th>\n      <td>12</td>\n      <td>11</td>\n    </tr>\n    <tr>\n      <th>W</th>\n      <td>23</td>\n      <td>22</td>\n    </tr>\n    <tr>\n      <th>X</th>\n      <td>34</td>\n      <td>33</td>\n    </tr>\n    <tr>\n      <th>Y</th>\n      <td>45</td>\n      <td>44</td>\n    </tr>\n  </tbody>\n</table>\n</div>"
     },
     "metadata": {},
     "execution_count": 99
    }
   ],
   "source": [
    "#removing column without inplace\n",
    "myd = {'a':[12,23,34,45],\n",
    "       'b':[56,67,78,89],\n",
    "       'c':[11,22,33,44]}\n",
    "df1=pd.DataFrame(myd,'V W X Y'.split())\n",
    "df1.drop('b',axis=1)"
   ]
  },
  {
   "cell_type": "code",
   "execution_count": 101,
   "metadata": {},
   "outputs": [
    {
     "output_type": "execute_result",
     "data": {
      "text/plain": [
       "    a   c\n",
       "V  12  11\n",
       "W  23  22\n",
       "X  34  33\n",
       "Y  45  44"
      ],
      "text/html": "<div>\n<style scoped>\n    .dataframe tbody tr th:only-of-type {\n        vertical-align: middle;\n    }\n\n    .dataframe tbody tr th {\n        vertical-align: top;\n    }\n\n    .dataframe thead th {\n        text-align: right;\n    }\n</style>\n<table border=\"1\" class=\"dataframe\">\n  <thead>\n    <tr style=\"text-align: right;\">\n      <th></th>\n      <th>a</th>\n      <th>c</th>\n    </tr>\n  </thead>\n  <tbody>\n    <tr>\n      <th>V</th>\n      <td>12</td>\n      <td>11</td>\n    </tr>\n    <tr>\n      <th>W</th>\n      <td>23</td>\n      <td>22</td>\n    </tr>\n    <tr>\n      <th>X</th>\n      <td>34</td>\n      <td>33</td>\n    </tr>\n    <tr>\n      <th>Y</th>\n      <td>45</td>\n      <td>44</td>\n    </tr>\n  </tbody>\n</table>\n</div>"
     },
     "metadata": {},
     "execution_count": 101
    }
   ],
   "source": [
    "#removing column with inplace\n",
    "myd = {'a':[12,23,34,45],\n",
    "       'b':[56,67,78,89],\n",
    "       'c':[11,22,33,44]}\n",
    "df1=pd.DataFrame(myd,'V W X Y'.split())\n",
    "df1.drop('b',axis=1,inplace=True)\n",
    "df1"
   ]
  },
  {
   "cell_type": "code",
   "execution_count": 102,
   "metadata": {},
   "outputs": [
    {
     "output_type": "execute_result",
     "data": {
      "text/plain": [
       "    a   b   c\n",
       "V  12  56  11\n",
       "X  34  78  33\n",
       "Y  45  89  44"
      ],
      "text/html": "<div>\n<style scoped>\n    .dataframe tbody tr th:only-of-type {\n        vertical-align: middle;\n    }\n\n    .dataframe tbody tr th {\n        vertical-align: top;\n    }\n\n    .dataframe thead th {\n        text-align: right;\n    }\n</style>\n<table border=\"1\" class=\"dataframe\">\n  <thead>\n    <tr style=\"text-align: right;\">\n      <th></th>\n      <th>a</th>\n      <th>b</th>\n      <th>c</th>\n    </tr>\n  </thead>\n  <tbody>\n    <tr>\n      <th>V</th>\n      <td>12</td>\n      <td>56</td>\n      <td>11</td>\n    </tr>\n    <tr>\n      <th>X</th>\n      <td>34</td>\n      <td>78</td>\n      <td>33</td>\n    </tr>\n    <tr>\n      <th>Y</th>\n      <td>45</td>\n      <td>89</td>\n      <td>44</td>\n    </tr>\n  </tbody>\n</table>\n</div>"
     },
     "metadata": {},
     "execution_count": 102
    }
   ],
   "source": [
    "#removing row\n",
    "myd = {'a':[12,23,34,45],\n",
    "       'b':[56,67,78,89],\n",
    "       'c':[11,22,33,44]}\n",
    "df1=pd.DataFrame(myd,'V W X Y'.split())\n",
    "df1.drop('W',axis=0)"
   ]
  },
  {
   "cell_type": "code",
   "execution_count": 105,
   "metadata": {},
   "outputs": [
    {
     "output_type": "stream",
     "name": "stdout",
     "text": [
      "    a   b   c\nV  12  56  11\nW  23  67  22\nX  34  78  33\nY  45  89  44\n"
     ]
    },
    {
     "output_type": "execute_result",
     "data": {
      "text/plain": [
       "  index   a   b   c\n",
       "0     V  12  56  11\n",
       "1     W  23  67  22\n",
       "2     X  34  78  33\n",
       "3     Y  45  89  44"
      ],
      "text/html": "<div>\n<style scoped>\n    .dataframe tbody tr th:only-of-type {\n        vertical-align: middle;\n    }\n\n    .dataframe tbody tr th {\n        vertical-align: top;\n    }\n\n    .dataframe thead th {\n        text-align: right;\n    }\n</style>\n<table border=\"1\" class=\"dataframe\">\n  <thead>\n    <tr style=\"text-align: right;\">\n      <th></th>\n      <th>index</th>\n      <th>a</th>\n      <th>b</th>\n      <th>c</th>\n    </tr>\n  </thead>\n  <tbody>\n    <tr>\n      <th>0</th>\n      <td>V</td>\n      <td>12</td>\n      <td>56</td>\n      <td>11</td>\n    </tr>\n    <tr>\n      <th>1</th>\n      <td>W</td>\n      <td>23</td>\n      <td>67</td>\n      <td>22</td>\n    </tr>\n    <tr>\n      <th>2</th>\n      <td>X</td>\n      <td>34</td>\n      <td>78</td>\n      <td>33</td>\n    </tr>\n    <tr>\n      <th>3</th>\n      <td>Y</td>\n      <td>45</td>\n      <td>89</td>\n      <td>44</td>\n    </tr>\n  </tbody>\n</table>\n</div>"
     },
     "metadata": {},
     "execution_count": 105
    }
   ],
   "source": [
    "#reset index to default (0,1,2,....,n)\n",
    "print(df1)\n",
    "df1.reset_index()"
   ]
  },
  {
   "cell_type": "code",
   "execution_count": 106,
   "metadata": {},
   "outputs": [
    {
     "output_type": "execute_result",
     "data": {
      "text/plain": [
       "    a   b   c Domisili\n",
       "V  12  56  11      BGR\n",
       "W  23  67  22      JKT\n",
       "X  34  78  33      BKS\n",
       "Y  45  89  44      TGR"
      ],
      "text/html": "<div>\n<style scoped>\n    .dataframe tbody tr th:only-of-type {\n        vertical-align: middle;\n    }\n\n    .dataframe tbody tr th {\n        vertical-align: top;\n    }\n\n    .dataframe thead th {\n        text-align: right;\n    }\n</style>\n<table border=\"1\" class=\"dataframe\">\n  <thead>\n    <tr style=\"text-align: right;\">\n      <th></th>\n      <th>a</th>\n      <th>b</th>\n      <th>c</th>\n      <th>Domisili</th>\n    </tr>\n  </thead>\n  <tbody>\n    <tr>\n      <th>V</th>\n      <td>12</td>\n      <td>56</td>\n      <td>11</td>\n      <td>BGR</td>\n    </tr>\n    <tr>\n      <th>W</th>\n      <td>23</td>\n      <td>67</td>\n      <td>22</td>\n      <td>JKT</td>\n    </tr>\n    <tr>\n      <th>X</th>\n      <td>34</td>\n      <td>78</td>\n      <td>33</td>\n      <td>BKS</td>\n    </tr>\n    <tr>\n      <th>Y</th>\n      <td>45</td>\n      <td>89</td>\n      <td>44</td>\n      <td>TGR</td>\n    </tr>\n  </tbody>\n</table>\n</div>"
     },
     "metadata": {},
     "execution_count": 106
    }
   ],
   "source": [
    "newLine='BGR JKT BKS TGR'.split()\n",
    "df1['Domisili'] = newLine\n",
    "df1\n"
   ]
  },
  {
   "cell_type": "code",
   "execution_count": 108,
   "metadata": {},
   "outputs": [
    {
     "output_type": "execute_result",
     "data": {
      "text/plain": [
       "           a   b   c\n",
       "Domisili            \n",
       "BGR       12  56  11\n",
       "JKT       23  67  22\n",
       "BKS       34  78  33\n",
       "TGR       45  89  44"
      ],
      "text/html": "<div>\n<style scoped>\n    .dataframe tbody tr th:only-of-type {\n        vertical-align: middle;\n    }\n\n    .dataframe tbody tr th {\n        vertical-align: top;\n    }\n\n    .dataframe thead th {\n        text-align: right;\n    }\n</style>\n<table border=\"1\" class=\"dataframe\">\n  <thead>\n    <tr style=\"text-align: right;\">\n      <th></th>\n      <th>a</th>\n      <th>b</th>\n      <th>c</th>\n    </tr>\n    <tr>\n      <th>Domisili</th>\n      <th></th>\n      <th></th>\n      <th></th>\n    </tr>\n  </thead>\n  <tbody>\n    <tr>\n      <th>BGR</th>\n      <td>12</td>\n      <td>56</td>\n      <td>11</td>\n    </tr>\n    <tr>\n      <th>JKT</th>\n      <td>23</td>\n      <td>67</td>\n      <td>22</td>\n    </tr>\n    <tr>\n      <th>BKS</th>\n      <td>34</td>\n      <td>78</td>\n      <td>33</td>\n    </tr>\n    <tr>\n      <th>TGR</th>\n      <td>45</td>\n      <td>89</td>\n      <td>44</td>\n    </tr>\n  </tbody>\n</table>\n</div>"
     },
     "metadata": {},
     "execution_count": 108
    }
   ],
   "source": [
    "#penggantian index dengan newLine tanpa inplace\n",
    "df1.set_index('Domisili')"
   ]
  },
  {
   "cell_type": "code",
   "execution_count": 109,
   "metadata": {},
   "outputs": [
    {
     "output_type": "execute_result",
     "data": {
      "text/plain": [
       "           a   b   c\n",
       "Domisili            \n",
       "BGR       12  56  11\n",
       "JKT       23  67  22\n",
       "BKS       34  78  33\n",
       "TGR       45  89  44"
      ],
      "text/html": "<div>\n<style scoped>\n    .dataframe tbody tr th:only-of-type {\n        vertical-align: middle;\n    }\n\n    .dataframe tbody tr th {\n        vertical-align: top;\n    }\n\n    .dataframe thead th {\n        text-align: right;\n    }\n</style>\n<table border=\"1\" class=\"dataframe\">\n  <thead>\n    <tr style=\"text-align: right;\">\n      <th></th>\n      <th>a</th>\n      <th>b</th>\n      <th>c</th>\n    </tr>\n    <tr>\n      <th>Domisili</th>\n      <th></th>\n      <th></th>\n      <th></th>\n    </tr>\n  </thead>\n  <tbody>\n    <tr>\n      <th>BGR</th>\n      <td>12</td>\n      <td>56</td>\n      <td>11</td>\n    </tr>\n    <tr>\n      <th>JKT</th>\n      <td>23</td>\n      <td>67</td>\n      <td>22</td>\n    </tr>\n    <tr>\n      <th>BKS</th>\n      <td>34</td>\n      <td>78</td>\n      <td>33</td>\n    </tr>\n    <tr>\n      <th>TGR</th>\n      <td>45</td>\n      <td>89</td>\n      <td>44</td>\n    </tr>\n  </tbody>\n</table>\n</div>"
     },
     "metadata": {},
     "execution_count": 109
    }
   ],
   "source": [
    "#penggantian index dengan newLine dengan inplace\n",
    "df1.set_index('Domisili',inplace=True)\n",
    "df1"
   ]
  },
  {
   "cell_type": "code",
   "execution_count": null,
   "metadata": {},
   "outputs": [],
   "source": []
  }
 ]
}